{
 "cells": [
  {
   "cell_type": "markdown",
   "metadata": {},
   "source": [
    "# STATISTICS 2 ASSIGNMENT"
   ]
  },
  {
   "cell_type": "markdown",
   "metadata": {},
   "source": [
    "# A test is conducted which is consisting of 20 MCQs (multiple choices questions) with every MCQ having its four options out of which only one is correct. Determine the probability that a person undertaking that test has answered exactly 5 questions wrong."
   ]
  },
  {
   "cell_type": "markdown",
   "metadata": {},
   "source": [
    "P(X=5) = (20!/(15!*5!))*((1/4)^15)*(3/4)^5 =0.2023\n",
    "\n",
    "Number of MCQs = 20\n",
    "Number of Options per MCQ = 4 (Only one of them is correct)\n",
    "\n",
    "Probability of getting correct answer for an MCQ = 1/4\n",
    "Probability of getting incorrect answer for an MCQ = 3/4\n",
    "\n",
    "To get 5 questions wrong, the permutations could be as many as C(20,15) = 20!/(15!*5!) = 15504\n",
    "\n",
    "P(X=15) = 15504 * (1/4)^15 * (3/4)^5\n",
    "        = 15504 *(3^5)/4^20\n",
    "        = 3767472/4^20\n",
    "        = 0.00000342649"
   ]
  },
  {
   "cell_type": "markdown",
   "metadata": {},
   "source": [
    "# A die marked A to E is rolled 50 times. Find the probability of getting a “D” exactly 5 times."
   ]
  },
  {
   "cell_type": "markdown",
   "metadata": {},
   "source": [
    "Probability of getting D = 1/5\n",
    "Probability of not getting D = 4/5\n",
    "\n",
    "P(X=5) = C(50,5)*((1/5)^5)*((4/5)^45)\n",
    "       = 0.02953120431 \n",
    "\n"
   ]
  },
  {
   "cell_type": "markdown",
   "metadata": {},
   "source": [
    "# Two balls are drawn at random in succession without replacement from an urn containing 4 red balls and 6 black balls. Find the probabilities of all the possible outcomes."
   ]
  },
  {
   "cell_type": "markdown",
   "metadata": {},
   "source": [
    "P(X=RR) = 4/10*3/9 = 12/90 = 2/15\n",
    "P(X=RB) = 4/10*6/9 = 24/90 = 4/15\n",
    "P(X=BR) = 6/10*4/9 = 24/90 = 4/15\n",
    "P(X=BB) = 6/10*5/9 = 30/90 = 5/15"
   ]
  }
 ],
 "metadata": {
  "kernelspec": {
   "display_name": "Python 3",
   "language": "python",
   "name": "python3"
  },
  "language_info": {
   "codemirror_mode": {
    "name": "ipython",
    "version": 3
   },
   "file_extension": ".py",
   "mimetype": "text/x-python",
   "name": "python",
   "nbconvert_exporter": "python",
   "pygments_lexer": "ipython3",
   "version": "3.6.5"
  }
 },
 "nbformat": 4,
 "nbformat_minor": 2
}
